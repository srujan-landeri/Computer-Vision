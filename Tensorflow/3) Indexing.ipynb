{
 "cells": [
  {
   "cell_type": "markdown",
   "metadata": {},
   "source": [
    "#### Importing Modules"
   ]
  },
  {
   "cell_type": "code",
   "execution_count": 2,
   "metadata": {},
   "outputs": [],
   "source": [
    "import tensorflow as tf\n",
    "import warnings\n",
    "\n",
    "warnings.filterwarnings('ignore')"
   ]
  },
  {
   "cell_type": "markdown",
   "metadata": {},
   "source": [
    "#### 1D Indexing"
   ]
  },
  {
   "cell_type": "code",
   "execution_count": 28,
   "metadata": {},
   "outputs": [
    {
     "name": "stdout",
     "output_type": "stream",
     "text": [
      "tf.Tensor([ 9 23 21], shape=(3,), dtype=int32)\n"
     ]
    }
   ],
   "source": [
    "tensor_1d = tf.random.uniform(shape=(5,), minval=1, maxval=50, dtype = tf.dtypes.int32, seed=3)\n",
    "print(tensor_1d[2:5])"
   ]
  },
  {
   "cell_type": "markdown",
   "metadata": {},
   "source": [
    "#### 2D Indexing"
   ]
  },
  {
   "cell_type": "code",
   "execution_count": 34,
   "metadata": {},
   "outputs": [
    {
     "name": "stdout",
     "output_type": "stream",
     "text": [
      "tf.Tensor(\n",
      "[[7 8]\n",
      " [1 2]\n",
      " [4 5]], shape=(3, 2), dtype=int32)\n"
     ]
    }
   ],
   "source": [
    "tensor_2d = tf.constant(\n",
    "    [\n",
    "        [1,2,3],\n",
    "        [7,8,9],\n",
    "        [1,2,3],\n",
    "        [4,5,6],\n",
    "    ]\n",
    ")\n",
    "print(tensor_2d[1:4,0:2])"
   ]
  }
 ],
 "metadata": {
  "kernelspec": {
   "display_name": "Python 3",
   "language": "python",
   "name": "python3"
  },
  "language_info": {
   "codemirror_mode": {
    "name": "ipython",
    "version": 3
   },
   "file_extension": ".py",
   "mimetype": "text/x-python",
   "name": "python",
   "nbconvert_exporter": "python",
   "pygments_lexer": "ipython3",
   "version": "3.9.5"
  }
 },
 "nbformat": 4,
 "nbformat_minor": 2
}
