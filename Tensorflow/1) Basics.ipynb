{
 "cells": [
  {
   "cell_type": "markdown",
   "metadata": {},
   "source": [
    "### Importing modules"
   ]
  },
  {
   "cell_type": "code",
   "execution_count": 19,
   "metadata": {},
   "outputs": [],
   "source": [
    "import tensorflow as tf\n",
    "import numpy as np\n",
    "import warnings\n",
    "\n",
    "warnings.filterwarnings('ignore')"
   ]
  },
  {
   "cell_type": "markdown",
   "metadata": {},
   "source": [
    "### Tensors Intialization"
   ]
  },
  {
   "cell_type": "code",
   "execution_count": 20,
   "metadata": {},
   "outputs": [
    {
     "name": "stdout",
     "output_type": "stream",
     "text": [
      "tf.Tensor(4, shape=(), dtype=int32)\n"
     ]
    }
   ],
   "source": [
    "# creating a scaler tensor\n",
    "tensor_zero_dim = tf.constant(4)\n",
    "print(tensor_zero_dim)"
   ]
  },
  {
   "cell_type": "code",
   "execution_count": 21,
   "metadata": {},
   "outputs": [
    {
     "name": "stdout",
     "output_type": "stream",
     "text": [
      "tf.Tensor([ 2  0 -3  8 90], shape=(5,), dtype=int32)\n"
     ]
    }
   ],
   "source": [
    "# creating a 1D tensor\n",
    "tensor_one_d = tf.constant([2,0,-3,8,90])\n",
    "print(tensor_one_d)"
   ]
  },
  {
   "cell_type": "code",
   "execution_count": 22,
   "metadata": {},
   "outputs": [
    {
     "name": "stdout",
     "output_type": "stream",
     "text": [
      "tf.Tensor(\n",
      "[[ 2  0 -3  8 90]\n",
      " [ 2  0 -3  8 90]\n",
      " [ 2  0 -3  8 90]\n",
      " [ 2  0 -3  8 90]], shape=(4, 5), dtype=int32)\n"
     ]
    }
   ],
   "source": [
    "# creating a 2D tensor\n",
    "tensor_two_d = tf.constant([\n",
    "    [2,0,-3,8,90],\n",
    "    [2,0,-3,8,90],\n",
    "    [2,0,-3,8,90],\n",
    "    [2,0,-3,8,90]\n",
    "])\n",
    "\n",
    "print(tensor_two_d)"
   ]
  },
  {
   "cell_type": "code",
   "execution_count": 23,
   "metadata": {},
   "outputs": [
    {
     "name": "stdout",
     "output_type": "stream",
     "text": [
      "tf.Tensor(\n",
      "[[[ 2  0 -3  8 90]\n",
      "  [ 2  0 -3  8 90]\n",
      "  [ 2  0 -3  8 90]\n",
      "  [ 2  0 -3  8 90]]\n",
      "\n",
      " [[ 2  0 -3  8 90]\n",
      "  [ 2  0 -3  8 90]\n",
      "  [ 2  0 -3  8 90]\n",
      "  [ 2  0 -3  8 90]]\n",
      "\n",
      " [[ 2  0 -3  8 90]\n",
      "  [ 2  0 -3  8 90]\n",
      "  [ 2  0 -3  8 90]\n",
      "  [ 2  0 -3  8 90]]], shape=(3, 4, 5), dtype=int32)\n"
     ]
    }
   ],
   "source": [
    "# creating a 3D tensor\n",
    "tensor_three_d = tf.constant([\n",
    "    [\n",
    "        [2,0,-3,8,90],\n",
    "        [2,0,-3,8,90],\n",
    "        [2,0,-3,8,90],\n",
    "        [2,0,-3,8,90]\n",
    "    ],\n",
    "    [\n",
    "        [2,0,-3,8,90],\n",
    "        [2,0,-3,8,90],\n",
    "        [2,0,-3,8,90],\n",
    "        [2,0,-3,8,90]\n",
    "    ],\n",
    "    [\n",
    "        [2,0,-3,8,90],\n",
    "        [2,0,-3,8,90],\n",
    "        [2,0,-3,8,90],\n",
    "        [2,0,-3,8,90]\n",
    "    ],\n",
    "])\n",
    "\n",
    "print(tensor_three_d)"
   ]
  },
  {
   "cell_type": "code",
   "execution_count": 24,
   "metadata": {},
   "outputs": [
    {
     "name": "stdout",
     "output_type": "stream",
     "text": [
      "tf.Tensor(b'Hello world', shape=(), dtype=string)\n"
     ]
    }
   ],
   "source": [
    "# tensor string\n",
    "tensor_string = tf.constant(\"Hello world\")\n",
    "print(tensor_string)"
   ]
  },
  {
   "cell_type": "code",
   "execution_count": 25,
   "metadata": {},
   "outputs": [
    {
     "name": "stdout",
     "output_type": "stream",
     "text": [
      "True\n"
     ]
    }
   ],
   "source": [
    "# tensor boolean\n",
    "tensor_boolean = tf.constant(True)\n",
    "print(f\"{tensor_boolean}\")"
   ]
  },
  {
   "cell_type": "markdown",
   "metadata": {},
   "source": [
    "### Tensors Casting"
   ]
  },
  {
   "cell_type": "code",
   "execution_count": 26,
   "metadata": {},
   "outputs": [
    {
     "name": "stdout",
     "output_type": "stream",
     "text": [
      "tf.Tensor([ 2.  0. -3.  8. 90.], shape=(5,), dtype=float32)\n"
     ]
    }
   ],
   "source": [
    "# Converting integer tensor to float\n",
    "tensor_one_d = tf.constant([2,0,-3,8,90], dtype=tf.int32)\n",
    "tensor_one_d_casted = tf.cast(tensor_one_d,dtype=tf.float32)\n",
    "print(tensor_one_d_casted)"
   ]
  },
  {
   "cell_type": "code",
   "execution_count": 27,
   "metadata": {},
   "outputs": [
    {
     "name": "stdout",
     "output_type": "stream",
     "text": [
      "tf.Tensor([1 2 3 4 5], shape=(5,), dtype=int32)\n"
     ]
    }
   ],
   "source": [
    "# Converting numpy array to tensor\n",
    "numpy_array = np.array([1,2,3,4,5])\n",
    "converted_tensor = tf.convert_to_tensor(numpy_array)\n",
    "print(converted_tensor)"
   ]
  },
  {
   "cell_type": "markdown",
   "metadata": {},
   "source": [
    "### Tensor Functions"
   ]
  },
  {
   "cell_type": "code",
   "execution_count": 28,
   "metadata": {},
   "outputs": [
    {
     "name": "stdout",
     "output_type": "stream",
     "text": [
      "[[1. 0. 0. 0. 0.]\n",
      " [0. 1. 0. 0. 0.]\n",
      " [0. 0. 1. 0. 0.]]\n"
     ]
    }
   ],
   "source": [
    "# eye\n",
    "eye_tensor = tf.eye(\n",
    "    num_rows=3,\n",
    "    num_columns=5,\n",
    "    batch_shape=None,\n",
    "    dtype=tf.dtypes.float32,\n",
    "    name=None\n",
    ")\n",
    "\n",
    "print(f\"{eye_tensor}\")"
   ]
  },
  {
   "cell_type": "code",
   "execution_count": 29,
   "metadata": {},
   "outputs": [
    {
     "name": "stdout",
     "output_type": "stream",
     "text": [
      "tf.Tensor(\n",
      "[[6 6 6 6]\n",
      " [6 6 6 6]\n",
      " [6 6 6 6]], shape=(3, 4), dtype=int32)\n"
     ]
    }
   ],
   "source": [
    "# fill\n",
    "fill_tensor = tf.fill((3,4),6)\n",
    "print(fill_tensor)"
   ]
  },
  {
   "cell_type": "code",
   "execution_count": 30,
   "metadata": {},
   "outputs": [
    {
     "name": "stdout",
     "output_type": "stream",
     "text": [
      "tf.Tensor(\n",
      "[[1. 1. 1. 1.]\n",
      " [1. 1. 1. 1.]\n",
      " [1. 1. 1. 1.]], shape=(3, 4), dtype=float32)\n"
     ]
    }
   ],
   "source": [
    "# ones\n",
    "tensor_ones = tf.ones((3,4))\n",
    "print(tensor_ones)"
   ]
  },
  {
   "cell_type": "code",
   "execution_count": 31,
   "metadata": {},
   "outputs": [
    {
     "name": "stdout",
     "output_type": "stream",
     "text": [
      "tf.Tensor(\n",
      "[[[1 1 1 1 1]\n",
      "  [1 1 1 1 1]\n",
      "  [1 1 1 1 1]\n",
      "  [1 1 1 1 1]]\n",
      "\n",
      " [[1 1 1 1 1]\n",
      "  [1 1 1 1 1]\n",
      "  [1 1 1 1 1]\n",
      "  [1 1 1 1 1]]\n",
      "\n",
      " [[1 1 1 1 1]\n",
      "  [1 1 1 1 1]\n",
      "  [1 1 1 1 1]\n",
      "  [1 1 1 1 1]]], shape=(3, 4, 5), dtype=int32)\n"
     ]
    }
   ],
   "source": [
    "tensor_ones_like = tf.ones_like(\n",
    "    tensor_three_d,\n",
    ")\n",
    "print(tensor_ones_like)"
   ]
  },
  {
   "cell_type": "code",
   "execution_count": 32,
   "metadata": {},
   "outputs": [
    {
     "name": "stdout",
     "output_type": "stream",
     "text": [
      "tf.Tensor(\n",
      "[[0. 0. 0. 0.]\n",
      " [0. 0. 0. 0.]\n",
      " [0. 0. 0. 0.]], shape=(3, 4), dtype=float32)\n"
     ]
    }
   ],
   "source": [
    "# zeros\n",
    "tensor_zeros = tf.zeros(\n",
    "    (3,4)\n",
    ")\n",
    "print(tensor_zeros)"
   ]
  },
  {
   "cell_type": "code",
   "execution_count": 33,
   "metadata": {},
   "outputs": [
    {
     "name": "stdout",
     "output_type": "stream",
     "text": [
      "tf.Tensor([3 4 5], shape=(3,), dtype=int32)\n"
     ]
    }
   ],
   "source": [
    "# knowing the shape\n",
    "print(tf.shape(tensor_three_d))"
   ]
  },
  {
   "cell_type": "code",
   "execution_count": 36,
   "metadata": {},
   "outputs": [
    {
     "name": "stdout",
     "output_type": "stream",
     "text": [
      "tf.Tensor(1, shape=(), dtype=int32)\n"
     ]
    }
   ],
   "source": [
    "# rank of a tensor\n",
    "print(tf.rank(tf.constant([1,8,23])))"
   ]
  },
  {
   "cell_type": "code",
   "execution_count": 38,
   "metadata": {},
   "outputs": [
    {
     "name": "stdout",
     "output_type": "stream",
     "text": [
      "tf.Tensor(60, shape=(), dtype=int32)\n"
     ]
    }
   ],
   "source": [
    "# size of a tensor\n",
    "print(tf.size(tensor_three_d))"
   ]
  },
  {
   "cell_type": "markdown",
   "metadata": {},
   "source": [
    "#### Random functions"
   ]
  },
  {
   "cell_type": "code",
   "execution_count": 50,
   "metadata": {},
   "outputs": [
    {
     "data": {
      "text/plain": [
       "<tf.Tensor: shape=(3, 2), dtype=float32, numpy=\n",
       "array([[ 0.39550617, -0.29961213],\n",
       "       [-0.29561213, -1.034551  ],\n",
       "       [-0.11772624, -0.59361756]], dtype=float32)>"
      ]
     },
     "execution_count": 50,
     "metadata": {},
     "output_type": "execute_result"
    }
   ],
   "source": [
    "# random values from normal distrubution\n",
    "# generated random values are centered \n",
    "# around the mean specified\n",
    "\n",
    "random_tensor = tf.random.normal(\n",
    "    [3,2],\n",
    "    mean=0,\n",
    "    stddev=1\n",
    ")\n",
    "\n",
    "random_tensor"
   ]
  }
 ],
 "metadata": {
  "kernelspec": {
   "display_name": "Python 3",
   "language": "python",
   "name": "python3"
  },
  "language_info": {
   "codemirror_mode": {
    "name": "ipython",
    "version": 3
   },
   "file_extension": ".py",
   "mimetype": "text/x-python",
   "name": "python",
   "nbconvert_exporter": "python",
   "pygments_lexer": "ipython3",
   "version": "3.9.5"
  }
 },
 "nbformat": 4,
 "nbformat_minor": 2
}
