{
 "cells": [
  {
   "cell_type": "markdown",
   "metadata": {},
   "source": [
    "### Importing modules"
   ]
  },
  {
   "cell_type": "code",
   "execution_count": 3,
   "metadata": {},
   "outputs": [
    {
     "name": "stderr",
     "output_type": "stream",
     "text": [
      "c:\\Users\\sruja\\AppData\\Local\\Programs\\Python\\Python39\\lib\\site-packages\\scipy\\__init__.py:146: UserWarning: A NumPy version >=1.16.5 and <1.23.0 is required for this version of SciPy (detected version 1.24.2\n",
      "  warnings.warn(f\"A NumPy version >={np_minversion} and <{np_maxversion}\"\n"
     ]
    }
   ],
   "source": [
    "import tensorflow as tf\n",
    "import numpy as np\n",
    "import warnings\n",
    "\n",
    "warnings.filterwarnings('ignore')"
   ]
  },
  {
   "cell_type": "markdown",
   "metadata": {},
   "source": [
    "### Tensors Intialization"
   ]
  },
  {
   "cell_type": "code",
   "execution_count": 4,
   "metadata": {},
   "outputs": [
    {
     "name": "stdout",
     "output_type": "stream",
     "text": [
      "tf.Tensor(4, shape=(), dtype=int32)\n"
     ]
    }
   ],
   "source": [
    "# creating a scaler tensor\n",
    "tensor_zero_dim = tf.constant(4)\n",
    "print(tensor_zero_dim)"
   ]
  },
  {
   "cell_type": "code",
   "execution_count": 5,
   "metadata": {},
   "outputs": [
    {
     "name": "stdout",
     "output_type": "stream",
     "text": [
      "tf.Tensor([ 2  0 -3  8 90], shape=(5,), dtype=int32)\n"
     ]
    }
   ],
   "source": [
    "# creating a 1D tensor\n",
    "tensor_one_d = tf.constant([2,0,-3,8,90])\n",
    "print(tensor_one_d)"
   ]
  },
  {
   "cell_type": "code",
   "execution_count": 6,
   "metadata": {},
   "outputs": [
    {
     "name": "stdout",
     "output_type": "stream",
     "text": [
      "tf.Tensor(\n",
      "[[ 2  0 -3  8 90]\n",
      " [ 2  0 -3  8 90]\n",
      " [ 2  0 -3  8 90]\n",
      " [ 2  0 -3  8 90]], shape=(4, 5), dtype=int32)\n"
     ]
    }
   ],
   "source": [
    "# creating a 2D tensor\n",
    "tensor_two_d = tf.constant([\n",
    "    [2,0,-3,8,90],\n",
    "    [2,0,-3,8,90],\n",
    "    [2,0,-3,8,90],\n",
    "    [2,0,-3,8,90]\n",
    "])\n",
    "\n",
    "print(tensor_two_d)"
   ]
  },
  {
   "cell_type": "code",
   "execution_count": 7,
   "metadata": {},
   "outputs": [
    {
     "name": "stdout",
     "output_type": "stream",
     "text": [
      "tf.Tensor(\n",
      "[[[ 2  0 -3  8 90]\n",
      "  [ 2  0 -3  8 90]\n",
      "  [ 2  0 -3  8 90]\n",
      "  [ 2  0 -3  8 90]]\n",
      "\n",
      " [[ 2  0 -3  8 90]\n",
      "  [ 2  0 -3  8 90]\n",
      "  [ 2  0 -3  8 90]\n",
      "  [ 2  0 -3  8 90]]\n",
      "\n",
      " [[ 2  0 -3  8 90]\n",
      "  [ 2  0 -3  8 90]\n",
      "  [ 2  0 -3  8 90]\n",
      "  [ 2  0 -3  8 90]]], shape=(3, 4, 5), dtype=int32)\n"
     ]
    }
   ],
   "source": [
    "# creating a 3D tensor\n",
    "tensor_three_d = tf.constant([\n",
    "    [\n",
    "        [2,0,-3,8,90],\n",
    "        [2,0,-3,8,90],\n",
    "        [2,0,-3,8,90],\n",
    "        [2,0,-3,8,90]\n",
    "    ],\n",
    "    [\n",
    "        [2,0,-3,8,90],\n",
    "        [2,0,-3,8,90],\n",
    "        [2,0,-3,8,90],\n",
    "        [2,0,-3,8,90]\n",
    "    ],\n",
    "    [\n",
    "        [2,0,-3,8,90],\n",
    "        [2,0,-3,8,90],\n",
    "        [2,0,-3,8,90],\n",
    "        [2,0,-3,8,90]\n",
    "    ],\n",
    "])\n",
    "\n",
    "print(tensor_three_d)"
   ]
  },
  {
   "cell_type": "code",
   "execution_count": 8,
   "metadata": {},
   "outputs": [
    {
     "name": "stdout",
     "output_type": "stream",
     "text": [
      "tf.Tensor(b'Hello world', shape=(), dtype=string)\n"
     ]
    }
   ],
   "source": [
    "# tensor string\n",
    "tensor_string = tf.constant(\"Hello world\")\n",
    "print(tensor_string)"
   ]
  },
  {
   "cell_type": "code",
   "execution_count": 9,
   "metadata": {},
   "outputs": [
    {
     "name": "stdout",
     "output_type": "stream",
     "text": [
      "True\n"
     ]
    }
   ],
   "source": [
    "# tensor boolean\n",
    "tensor_boolean = tf.constant(True)\n",
    "print(f\"{tensor_boolean}\")"
   ]
  },
  {
   "cell_type": "markdown",
   "metadata": {},
   "source": [
    "### Tensors Casting"
   ]
  },
  {
   "cell_type": "code",
   "execution_count": 10,
   "metadata": {},
   "outputs": [
    {
     "name": "stdout",
     "output_type": "stream",
     "text": [
      "tf.Tensor([ 2.  0. -3.  8. 90.], shape=(5,), dtype=float32)\n"
     ]
    }
   ],
   "source": [
    "# Converting integer tensor to float\n",
    "tensor_one_d = tf.constant([2,0,-3,8,90], dtype=tf.int32)\n",
    "tensor_one_d_casted = tf.cast(tensor_one_d,dtype=tf.float32)\n",
    "print(tensor_one_d_casted)"
   ]
  },
  {
   "cell_type": "code",
   "execution_count": 11,
   "metadata": {},
   "outputs": [
    {
     "name": "stdout",
     "output_type": "stream",
     "text": [
      "tf.Tensor([1 2 3 4 5], shape=(5,), dtype=int32)\n"
     ]
    }
   ],
   "source": [
    "# Converting numpy array to tensor\n",
    "numpy_array = np.array([1,2,3,4,5])\n",
    "converted_tensor = tf.convert_to_tensor(numpy_array)\n",
    "print(converted_tensor)"
   ]
  }
 ],
 "metadata": {
  "kernelspec": {
   "display_name": "Python 3",
   "language": "python",
   "name": "python3"
  },
  "language_info": {
   "codemirror_mode": {
    "name": "ipython",
    "version": 3
   },
   "file_extension": ".py",
   "mimetype": "text/x-python",
   "name": "python",
   "nbconvert_exporter": "python",
   "pygments_lexer": "ipython3",
   "version": "3.9.5"
  }
 },
 "nbformat": 4,
 "nbformat_minor": 2
}
